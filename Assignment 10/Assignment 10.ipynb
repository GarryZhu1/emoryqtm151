{
 "cells": [
  {
   "attachments": {},
   "cell_type": "markdown",
   "metadata": {},
   "source": [
    "# Assignment 10"
   ]
  },
  {
   "attachments": {},
   "cell_type": "markdown",
   "metadata": {},
   "source": [
    "## Try to submit as an HTML file"
   ]
  },
  {
   "attachments": {},
   "cell_type": "markdown",
   "metadata": {},
   "source": [
    "<font size = \"5\">\n",
    "Print your name below"
   ]
  },
  {
   "cell_type": "code",
   "execution_count": null,
   "metadata": {},
   "outputs": [],
   "source": [
    "print(\"Garry Zhu\")"
   ]
  },
  {
   "attachments": {},
   "cell_type": "markdown",
   "metadata": {},
   "source": [
    "<font size = \"5\">\n",
    "\n",
    "Import the \"pandas\" and \"matplotlib.pyplot\" libraries."
   ]
  },
  {
   "cell_type": "code",
   "execution_count": 1,
   "metadata": {},
   "outputs": [],
   "source": [
    "# Write your answer here:\n",
    "import pandas as pd\n",
    "import matplotlib.pyplot as plt\n",
    "\n"
   ]
  },
  {
   "attachments": {},
   "cell_type": "markdown",
   "metadata": {},
   "source": [
    "<font size = \"5\">\n",
    "\n",
    "In this assignment, we will work with a World Bank <br>\n",
    "dataset on the proportion of urban population across <br>\n",
    "countries, from 2016-2020.\n",
    "\n",
    "- This is an example of a \"panel\"/\"longitudinal\" dataset <br>\n",
    " which contains information about the same unit (country) <br>\n",
    " over time.\n",
    " - This is in \"long\" format (see Lecture 22)"
   ]
  },
  {
   "attachments": {},
   "cell_type": "markdown",
   "metadata": {},
   "source": [
    "<font size = \"5\">\n",
    "\n",
    "(a) Import data and parse dates \n",
    "\n",
    "<font size = \"3\">\n",
    "\n",
    "\n",
    "- Import \"data_raw/wdi_long.csv\"\n",
    "- Create a new column called \"date\" which uses ```pd.to_datetime(...,format = ...)``` <br>\n",
    "to convert year to a date format\n",
    "- To get full points use wild cards to establish the format.\n",
    "\n",
    "Hint: See Lecture 21 for information about wild cards"
   ]
  },
  {
   "cell_type": "code",
   "execution_count": 3,
   "metadata": {},
   "outputs": [
    {
     "name": "stdout",
     "output_type": "stream",
     "text": [
      "   year year_code    country_name country_code  prop_urban       date\n",
      "0  2016    YR2016     Afghanistan          AFG      25.020 2016-01-01\n",
      "1  2016    YR2016         Albania          ALB      58.421 2016-01-01\n",
      "2  2016    YR2016         Algeria          DZA      71.459 2016-01-01\n",
      "3  2016    YR2016  American Samoa          ASM      87.198 2016-01-01\n",
      "4  2016    YR2016         Andorra          AND      88.248 2016-01-01\n"
     ]
    }
   ],
   "source": [
    "# Write your own code\n",
    "data = pd.read_csv(\"data_raw/wdi_long.csv\")\n",
    "\n",
    "data['date'] = pd.to_datetime(data['year'].astype(str) + '-01-01', format='%Y-%m-%d')\n",
    "\n",
    "print(data.head())\n"
   ]
  },
  {
   "attachments": {},
   "cell_type": "markdown",
   "metadata": {},
   "source": [
    "<font size = \"5\">\n",
    "\n",
    "(b)  Sort by two columns\n",
    "\n",
    "<font size = \"3\">\n",
    "\n",
    "- Create a new dataset \"data_sorted\" that sorts by \"country_name\" and \"date\"\n",
    "\n",
    "HINT: Include a list of column names as the main sorting argument."
   ]
  },
  {
   "cell_type": "code",
   "execution_count": 8,
   "metadata": {},
   "outputs": [
    {
     "name": "stdout",
     "output_type": "stream",
     "text": [
      "     year year_code country_name country_code  prop_urban       date\n",
      "0    2016    YR2016  Afghanistan          AFG      25.020 2016-01-01\n",
      "217  2017    YR2017  Afghanistan          AFG      25.250 2017-01-01\n",
      "434  2018    YR2018  Afghanistan          AFG      25.495 2018-01-01\n",
      "651  2019    YR2019  Afghanistan          AFG      25.754 2019-01-01\n",
      "868  2020    YR2020  Afghanistan          AFG      26.026 2020-01-01\n"
     ]
    }
   ],
   "source": [
    "# Write your own code\n",
    "data_sort = data.sort_values(by=['country_name', 'date'])\n",
    "\n",
    "print(data_sort.head())\n"
   ]
  },
  {
   "attachments": {},
   "cell_type": "markdown",
   "metadata": {},
   "source": [
    "<font size = \"5\">\n",
    "\n",
    "(c) Compute grouped time differences\n",
    "\n",
    "<font size = \"3\">\n",
    "\n",
    "**Example**\n",
    "- Each country has data for multiple dates\n",
    "- The following code calculates the time-difference between each date <br>\n",
    "```\n",
    "(data_sorted.groupby(\"country_name\")[\"date\"]\n",
    "            .diff())\n",
    "```\n",
    "\n",
    "**Instructions**:\n",
    "- Now, instead of [\"date\"] use ```[\"prop_urban\"]```\n",
    "- Store the result in a new column called \"diff_prop_urban\"\n",
    "- This adds a new column with the country-level changes in <br>\n",
    "the urban propulaton each year\n",
    "\n",
    "HINT: Check Lecture 22 for using ```.diff()``` <br>\n",
    "Note: Using \".groupby()\" is important so that each country is analyzed <br>\n",
    "separately."
   ]
  },
  {
   "cell_type": "code",
   "execution_count": 9,
   "metadata": {},
   "outputs": [
    {
     "name": "stdout",
     "output_type": "stream",
     "text": [
      "     year year_code country_name country_code  prop_urban       date  \\\n",
      "0    2016    YR2016  Afghanistan          AFG      25.020 2016-01-01   \n",
      "217  2017    YR2017  Afghanistan          AFG      25.250 2017-01-01   \n",
      "434  2018    YR2018  Afghanistan          AFG      25.495 2018-01-01   \n",
      "651  2019    YR2019  Afghanistan          AFG      25.754 2019-01-01   \n",
      "868  2020    YR2020  Afghanistan          AFG      26.026 2020-01-01   \n",
      "\n",
      "     diff_prop_urban  \n",
      "0                NaN  \n",
      "217            0.230  \n",
      "434            0.245  \n",
      "651            0.259  \n",
      "868            0.272  \n"
     ]
    }
   ],
   "source": [
    "# Write your own code\n",
    "data_sort['diff_prop_urban'] = data_sort.groupby(\"country_name\")[\"prop_urban\"].diff()\n",
    "\n",
    "print(data_sort.head())\n"
   ]
  },
  {
   "attachments": {},
   "cell_type": "markdown",
   "metadata": {},
   "source": [
    "<font size = \"5\">\n",
    "\n",
    "(d) Plot time series for single country\n",
    "\n",
    "<font size = \"3\">\n",
    "\n",
    "- Use \".query()\" to subset \"data_sorted\" for rows that satisfy\n",
    "\n",
    "$\\quad$  ```  'country_name == \"United States\"' ```\n",
    " \n",
    "- Produce a line plot with the evolution of \"prop_urban\" over time in the <br>\n",
    "United States\n",
    "\n"
   ]
  },
  {
   "cell_type": "code",
   "execution_count": 6,
   "metadata": {},
   "outputs": [
    {
     "data": {
      "image/png": "[encoded data removed]",
      "text/plain": [
       "<Figure size 640x480 with 1 Axes>"
      ]
     },
     "metadata": {},
     "output_type": "display_data"
    }
   ],
   "source": [
    "# Write your own code\n",
    "data1 = data_sorted.query('country_name == \"United States\"')\n",
    "\n",
    "plt.plot(data1['date'], data1['prop_urban'])\n",
    "plt.xlabel('Date')\n",
    "plt.ylabel('Proportion Urban Population')\n",
    "plt.title('Proporation of urban population over year')\n",
    "plt.show()\n"
   ]
  },
  {
   "attachments": {},
   "cell_type": "markdown",
   "metadata": {},
   "source": [
    "<font size = \"5\">\n",
    "\n",
    "(e) Convert to wide format\n",
    "\n",
    "<font size = \"3\">\n",
    "\n",
    "- Convert \"data_sorted\" from long to wide, using the following arguments: <br>\n",
    "```\n",
    "   index = 'country_name'\n",
    "   columns = 'year'\n",
    "   values =  'prop_urban'\n",
    "```\n",
    "- Display the dataset to check that it is in wide format\n",
    "\n",
    "HINT: See Lecture 22 for details\n",
    "\n"
   ]
  },
  {
   "cell_type": "code",
   "execution_count": 7,
   "metadata": {},
   "outputs": [
    {
     "name": "stdout",
     "output_type": "stream",
     "text": [
      "year                     2016    2017    2018    2019    2020\n",
      "country_name                                                 \n",
      "Afghanistan            25.020  25.250  25.495  25.754  26.026\n",
      "Albania                58.421  59.383  60.319  61.229  62.112\n",
      "Algeria                71.459  72.052  72.629  73.189  73.733\n",
      "American Samoa         87.198  87.170  87.153  87.147  87.153\n",
      "Andorra                88.248  88.150  88.062  87.984  87.916\n",
      "...                       ...     ...     ...     ...     ...\n",
      "Virgin Islands (U.S.)  95.480  95.603  95.721  95.832  95.939\n",
      "West Bank and Gaza     75.628  75.894  76.164  76.440  76.719\n",
      "Yemen, Rep.            35.394  36.016  36.642  37.273  37.908\n",
      "Zambia                 42.438  42.976  43.521  44.072  44.629\n",
      "Zimbabwe               32.296  32.237  32.209  32.210  32.242\n",
      "\n",
      "[215 rows x 5 columns]\n"
     ]
    }
   ],
   "source": [
    "# Write your own code\n",
    "data2 = data_sorted.pivot_table(index='country_name', columns='year', values='prop_urban')\n",
    "print(data2)\n",
    "\n"
   ]
  }
 ],
 "metadata": {
  "kernelspec": {
   "display_name": "Python 3",
   "language": "python",
   "name": "python3"
  },
  "language_info": {
   "codemirror_mode": {
    "name": "ipython",
    "version": 3
   },
   "file_extension": ".py",
   "mimetype": "text/x-python",
   "name": "python",
   "nbconvert_exporter": "python",
   "pygments_lexer": "ipython3",
   "version": "3.11.1"
  },
  "orig_nbformat": 4,
  "vscode": {
   "interpreter": {
    "hash": "aee8b7b246df8f9039afb4144a1f6fd8d2ca17a180786b69acc140d282b71a49"
   }
  }
 },
 "nbformat": 4,
 "nbformat_minor": 2
}
